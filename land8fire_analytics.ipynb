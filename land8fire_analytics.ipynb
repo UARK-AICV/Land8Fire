{
 "cells": [
  {
   "cell_type": "code",
   "execution_count": 3,
   "id": "bdeaff01",
   "metadata": {},
   "outputs": [],
   "source": [
    "import rasterio\n",
    "import matplotlib.pyplot as plt\n",
    "import numpy as np\n",
    "import os\n",
    "import cv2\n",
    "from tqdm import tqdm"
   ]
  },
  {
   "cell_type": "code",
   "execution_count": 4,
   "id": "b91eee31",
   "metadata": {},
   "outputs": [],
   "source": [
    "max_pixel_value = 65535\n",
    "\n",
    "def get_rgb_image(image_path, band_combination):\n",
    "    img = rasterio.open(image_path).read(band_combination).transpose((1,2,0))\n",
    "\n",
    "    img = img / max_pixel_value\n",
    "    img = np.array(img * 255, dtype=np.uint8)\n",
    "    img = cv2.cvtColor(img, cv2.COLOR_BGR2RGB)\n",
    "\n",
    "    return img"
   ]
  },
  {
   "cell_type": "code",
   "execution_count": null,
   "id": "0dff8f89",
   "metadata": {},
   "outputs": [],
   "source": [
    "## Example\n",
    "visual_bands = (7,6,2)\n",
    "image_path = \"path/to/file.TIF\"\n",
    "\n",
    "img = get_rgb_image(image_path=image_path, band_combination=visual_bands)\n",
    "cv2.imwrite(\"visual_image.png\", img)"
   ]
  }
 ],
 "metadata": {
  "kernelspec": {
   "display_name": "venv (3.13.4)",
   "language": "python",
   "name": "python3"
  },
  "language_info": {
   "codemirror_mode": {
    "name": "ipython",
    "version": 3
   },
   "file_extension": ".py",
   "mimetype": "text/x-python",
   "name": "python",
   "nbconvert_exporter": "python",
   "pygments_lexer": "ipython3",
   "version": "3.13.4"
  }
 },
 "nbformat": 4,
 "nbformat_minor": 5
}
